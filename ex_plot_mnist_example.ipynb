{
 "cells": [
  {
   "cell_type": "code",
   "execution_count": 1,
   "metadata": {},
   "outputs": [],
   "source": [
    "\"\"\"\n",
    "UMAP on the MNIST Digits dataset\n",
    "--------------------------------\n",
    "A simple example demonstrating how to use UMAP on a larger\n",
    "dataset such as MNIST. We first pull the MNIST dataset and\n",
    "then use UMAP to reduce it to only 2-dimensions for\n",
    "easy visualisation.\n",
    "Note that UMAP manages to both group the individual digit\n",
    "classes, but also to retain the overall global structure\n",
    "among the different digit classes -- keeping 1 far from\n",
    "0, and grouping triplets of 3,5,8 and 4,7,9 which can\n",
    "blend into one another in some cases.\n",
    "\"\"\"\n",
    "import umap\n",
    "from sklearn.datasets import fetch_openml\n",
    "import matplotlib.pyplot as plt\n",
    "import seaborn as sns\n",
    "\n",
    "sns.set(context=\"paper\", style=\"white\")\n",
    "\n",
    "mnist = fetch_openml(\"mnist_784\", version=1)\n",
    "\n",
    "f = mnist.data"
   ]
  },
  {
   "cell_type": "code",
   "execution_count": null,
   "metadata": {},
   "outputs": [],
   "source": [
    "\n",
    "reducer = umap.UMAP(random_state=42)\n",
    "embedding = reducer.fit_transform(mnist.data)\n",
    "\n",
    "fig, ax = plt.subplots(figsize=(12, 10))\n",
    "color = mnist.target.astype(int)\n",
    "plt.scatter(embedding[:, 0], embedding[:, 1], c=color, cmap=\"Spectral\", s=0.1)\n",
    "plt.setp(ax, xticks=[], yticks=[])\n",
    "plt.title(\"MNIST data embedded into two dimensions by UMAP\", fontsize=18)\n",
    "\n",
    "plt.show()"
   ]
  }
 ],
 "metadata": {
  "interpreter": {
   "hash": "ee028b544bd47809a6376d9e54fcafe5c560a1fb9a08492a38cb5575153d7e50"
  },
  "kernelspec": {
   "display_name": "Python 3.9.9 64-bit ('umap': conda)",
   "language": "python",
   "name": "python3"
  },
  "language_info": {
   "codemirror_mode": {
    "name": "ipython",
    "version": 3
   },
   "file_extension": ".py",
   "mimetype": "text/x-python",
   "name": "python",
   "nbconvert_exporter": "python",
   "pygments_lexer": "ipython3",
   "version": "3.9.7"
  },
  "orig_nbformat": 4
 },
 "nbformat": 4,
 "nbformat_minor": 2
}
